{
 "cells": [
  {
   "cell_type": "code",
   "execution_count": 1,
   "metadata": {},
   "outputs": [],
   "source": [
    "import sys\n",
    "sys.path.append('../')\n",
    "\n",
    "import os\n",
    "\n",
    "import matplotlib.pyplot as plt\n",
    "import numpy as np\n",
    "import pytorch_lightning as pl\n",
    "import torch\n",
    "import torch.nn as nn\n",
    "import torchvision\n",
    "import torchvision.transforms as transforms\n",
    "from torch.utils.data import DataLoader\n",
    "from PIL import Image\n",
    "from sklearn.neighbors import NearestNeighbors\n",
    "from sklearn.preprocessing import normalize\n",
    "\n",
    "from lightly.data import LightlyDataset, SimCLRCollateFunction, collate\n",
    "\n",
    "from src.dataset.bps_dataset import BPSMouseDataset\n",
    "from src.dataset.augmentation import (\n",
    "    NormalizeBPS,\n",
    "    ResizeBPS,\n",
    "    VFlipBPS,\n",
    "    HFlipBPS,\n",
    "    RotateBPS,\n",
    "    RandomCropBPS,\n",
    "    ToThreeChannels,\n",
    "    ToTensor\n",
    ")\n",
    "from src.model.unsupervised.resnet101 import ResNet101"
   ]
  },
  {
   "cell_type": "code",
   "execution_count": 8,
   "metadata": {},
   "outputs": [],
   "source": [
    "num_workers = 4\n",
    "batch_size = 32\n",
    "seed = 1\n",
    "max_epochs = 20\n",
    "input_size = 128"
   ]
  },
  {
   "cell_type": "code",
   "execution_count": 9,
   "metadata": {},
   "outputs": [
    {
     "name": "stderr",
     "output_type": "stream",
     "text": [
      "Global seed set to 1\n"
     ]
    },
    {
     "data": {
      "text/plain": [
       "1"
      ]
     },
     "execution_count": 9,
     "metadata": {},
     "output_type": "execute_result"
    }
   ],
   "source": [
    "pl.seed_everything(seed)"
   ]
  },
  {
   "cell_type": "code",
   "execution_count": 15,
   "metadata": {},
   "outputs": [],
   "source": [
    "collate_fn = SimCLRCollateFunction(input_size=input_size, vf_prob=0.5, rr_prob=0.5)\n",
    "\n",
    "train_csv_path = 'meta_dose_hi_hr_4_post_exposure_train.csv'\n",
    "test_csv_path = 'meta_dose_hi_hr_4_post_exposure_test.csv'\n",
    "\n",
    "transformations_train = transforms.Compose([\n",
    "                        NormalizeBPS(),\n",
    "                        ResizeBPS(256, 256),\n",
    "                        transforms.RandomApply(VFlipBPS(), p=0.5),\n",
    "                        transforms.RandomApply(HFlipBPS(), p=0.5),\n",
    "                        transforms.RandomApply(RotateBPS(90), p=0.5),\n",
    "                        RandomCropBPS(200, 200),\n",
    "                        ToThreeChannels(),\n",
    "                        ToTensor()\n",
    "                    ])\n",
    "\n",
    "transformations_test = transforms.Compose([\n",
    "                        NormalizeBPS(),\n",
    "                        ResizeBPS(256, 256),\n",
    "                        ToThreeChannels(),\n",
    "                        ToTensor()\n",
    "                    ])\n",
    "\n",
    "transformed_dataset_train = BPSMouseDataset(train_csv_path,\n",
    "                                           '../Microscopy/train',\n",
    "                                           transform=transformations_train,\n",
    "                                            file_on_prem=True\n",
    "                                           )\n",
    "\n",
    "transformed_dataset_test = BPSMouseDataset(train_csv_path,\n",
    "                                           '../Microscopy/train',\n",
    "                                           transform=transformations_test,\n",
    "                                            file_on_prem=True\n",
    "                                           )\n",
    "\n",
    "data_loader_train = DataLoader(transformed_dataset_train, batch_size=batch_size, shuffle=True, num_workers=num_workers)\n",
    "data_loader_test = DataLoader(transformed_dataset_test, batch_size=batch_size, shuffle=True, num_workers=num_workers)"
   ]
  },
  {
   "cell_type": "code",
   "execution_count": 11,
   "metadata": {},
   "outputs": [],
   "source": [
    "from lightly.loss import NTXentLoss\n",
    "from lightly.models.modules.heads import SimCLRProjectionHead\n",
    "\n",
    "class SimCLRModel(pl.LightningModule):\n",
    "    def __init__(self):\n",
    "        super().__init__()\n",
    "\n",
    "        # create a ResNet backbone and remove the classification head\n",
    "        resnet = ResNet101(pretrained=False)\n",
    "        self.backbone = nn.Sequential(*list(resnet.children())[:-1])\n",
    "\n",
    "        hidden_dim = resnet.fc.in_features\n",
    "        self.projection_head = SimCLRProjectionHead(hidden_dim, hidden_dim, 128)\n",
    "\n",
    "        self.criterion = NTXentLoss()\n",
    "\n",
    "    def forward(self, x):\n",
    "        h = self.backbone(x).flatten(start_dim=1)\n",
    "        z = self.projection_head(h)\n",
    "        return z\n",
    "\n",
    "    def training_step(self, batch, batch_idx):\n",
    "        x0, x1, _ = batch\n",
    "        z0 = self.forward(x0)\n",
    "        z1 = self.forward(x1)\n",
    "        loss = self.criterion(z0, z1)\n",
    "        self.log(\"train_loss_ssl\", loss)\n",
    "        return loss\n",
    "\n",
    "    def configure_optimizers(self):\n",
    "        optim = torch.optim.SGD(\n",
    "            self.parameters(), lr=6e-2, momentum=0.9, weight_decay=5e-4\n",
    "        )\n",
    "        return optim"
   ]
  },
  {
   "cell_type": "code",
   "execution_count": 12,
   "metadata": {},
   "outputs": [
    {
     "name": "stderr",
     "output_type": "stream",
     "text": [
      "GPU available: True (cuda), used: True\n",
      "TPU available: False, using: 0 TPU cores\n",
      "IPU available: False, using: 0 IPUs\n",
      "HPU available: False, using: 0 HPUs\n",
      "You are using a CUDA device ('NVIDIA GeForce RTX 3070 Laptop GPU') that has Tensor Cores. To properly utilize them, you should set `torch.set_float32_matmul_precision('medium' | 'high')` which will trade-off precision for performance. For more details, read https://pytorch.org/docs/stable/generated/torch.set_float32_matmul_precision.html#torch.set_float32_matmul_precision\n",
      "LOCAL_RANK: 0 - CUDA_VISIBLE_DEVICES: [0]\n",
      "\n",
      "  | Name            | Type                 | Params\n",
      "---------------------------------------------------------\n",
      "0 | backbone        | Sequential           | 42.5 M\n",
      "1 | projection_head | SimCLRProjectionHead | 4.5 M \n",
      "2 | criterion       | NTXentLoss           | 0     \n",
      "---------------------------------------------------------\n",
      "47.0 M    Trainable params\n",
      "0         Non-trainable params\n",
      "47.0 M    Total params\n",
      "187.844   Total estimated model params size (MB)\n"
     ]
    },
    {
     "data": {
      "application/vnd.jupyter.widget-view+json": {
       "model_id": "e60e7930cf6345c3b1085337eeb8b025",
       "version_major": 2,
       "version_minor": 0
      },
      "text/plain": [
       "Training: 0it [00:00, ?it/s]"
      ]
     },
     "metadata": {},
     "output_type": "display_data"
    },
    {
     "name": "stderr",
     "output_type": "stream",
     "text": [
      "c:\\Users\\sammy\\miniconda3\\envs\\gpu_cs175\\Lib\\site-packages\\pytorch_lightning\\trainer\\call.py:54: UserWarning: Detected KeyboardInterrupt, attempting graceful shutdown...\n",
      "  rank_zero_warn(\"Detected KeyboardInterrupt, attempting graceful shutdown...\")\n"
     ]
    }
   ],
   "source": [
    "model = SimCLRModel()\n",
    "trainer = pl.Trainer(max_epochs=max_epochs, devices=1, accelerator=\"gpu\")\n",
    "trainer.fit(model, data_loader_train)"
   ]
  }
 ],
 "metadata": {
  "kernelspec": {
   "display_name": "gpu_cs175",
   "language": "python",
   "name": "python3"
  },
  "language_info": {
   "codemirror_mode": {
    "name": "ipython",
    "version": 3
   },
   "file_extension": ".py",
   "mimetype": "text/x-python",
   "name": "python",
   "nbconvert_exporter": "python",
   "pygments_lexer": "ipython3",
   "version": "3.11.3"
  },
  "orig_nbformat": 4
 },
 "nbformat": 4,
 "nbformat_minor": 2
}
